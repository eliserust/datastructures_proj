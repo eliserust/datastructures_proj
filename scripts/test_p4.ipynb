{
 "cells": [
  {
   "cell_type": "markdown",
   "metadata": {},
   "source": [
    "##### Testing Script for Deliverable 4:\n",
    "\n",
    "Elise Rust\n",
    "ANLY 555\n",
    "Nov 19, 2022\n",
    "\n",
    "Option Chosen: A) ROC Curve\n",
    "\n",
    "New methods predict_probability() in simpleKNNClassifier(), ROC() in Experiment(), and plot_ROC() in Experiment()"
   ]
  },
  {
   "cell_type": "code",
   "execution_count": 17,
   "metadata": {},
   "outputs": [],
   "source": [
    "# Import classes\n",
    "from data_classes import (DataSet, QuantDataSet, QualDataSet,\n",
    "                                        TextDataSet, TimeSeriesDataSet)\n",
    "from classifiers import (ClassifierAlgorithm, simpleKNNClassifier, Experiment)\n",
    "\n",
    "# Approved libraries\n",
    "import csv\n",
    "import nltk\n",
    "import numpy as np\n",
    "import matplotlib.pyplot as plt"
   ]
  },
  {
   "cell_type": "code",
   "execution_count": 2,
   "metadata": {},
   "outputs": [
    {
     "name": "stdout",
     "output_type": "stream",
     "text": [
      "/Users/eliserust/Desktop/Papers/Georgetown/Fall 2022/ANLY555/555_project\n"
     ]
    }
   ],
   "source": [
    "# Change directory up\n",
    "import os\n",
    "os.chdir('..')\n",
    "print(os.getcwd())"
   ]
  },
  {
   "cell_type": "markdown",
   "metadata": {},
   "source": [
    "### 1) Load in Data --> Using TextData for this classification task"
   ]
  },
  {
   "cell_type": "code",
   "execution_count": 3,
   "metadata": {},
   "outputs": [
    {
     "name": "stdout",
     "output_type": "stream",
     "text": [
      "Testing the TextDataSet class first. Initialize object of class TextDataSet.\n",
      "Use 'data/text_data.csv' as the data here when prompted.\n"
     ]
    }
   ],
   "source": [
    "### Load in and clean data for classification\n",
    "print(\"Testing the TextDataSet class first. Initialize object of class TextDataSet.\")\n",
    "print(\"Use 'data/text_data.csv' as the data here when prompted.\")\n",
    "text_data = TextDataSet(\"data/text_data.csv\")\n",
    "# Test cleaning and explore methods\n",
    "text_data.data = text_data.clean()"
   ]
  },
  {
   "cell_type": "markdown",
   "metadata": {},
   "source": [
    "### 2) Instantiate simpleKNNClassifier"
   ]
  },
  {
   "cell_type": "code",
   "execution_count": 4,
   "metadata": {},
   "outputs": [
    {
     "name": "stdout",
     "output_type": "stream",
     "text": [
      "Testing the simpleKNNClassifier class first.\n",
      "Object of class ClassifierAlgorithm has been instantiated.\n",
      "Object of subclass simpleKNNClassifier has been instantiated.\n",
      "Print member attributes of class Classifier\n",
      "Classifier labels: \n",
      "Classifier predictors is:  None\n"
     ]
    }
   ],
   "source": [
    "print(\"Testing the simpleKNNClassifier class first.\")\n",
    "knnclassifier= simpleKNNClassifier()\n",
    "print(\"Print member attributes of class Classifier\")\n",
    "print(\"Classifier labels:\", knnclassifier.labels)\n",
    "print(\"Classifier predictors is: \", knnclassifier.predictors)"
   ]
  },
  {
   "cell_type": "code",
   "execution_count": 5,
   "metadata": {},
   "outputs": [
    {
     "name": "stdout",
     "output_type": "stream",
     "text": [
      "Calling the train() method on training data: \n",
      "Calling the test() method on testing data: \n"
     ]
    },
    {
     "name": "stderr",
     "output_type": "stream",
     "text": [
      "/Users/eliserust/Desktop/Papers/Georgetown/Fall 2022/ANLY555/555_project/scripts/classifiers.py:119: FutureWarning: Unlike other reduction functions (e.g. `skew`, `kurtosis`), the default behavior of `mode` typically preserves the axis it acts along. In SciPy 1.11.0, this behavior will change: the default value of `keepdims` will become False, the `axis` over which the statistic is taken will be eliminated, and the value None will no longer be accepted. Set `keepdims` to True or False to avoid this warning.\n",
      "  lab = mode(dist_sort)\n"
     ]
    },
    {
     "name": "stdout",
     "output_type": "stream",
     "text": [
      "The predicted labels for the first 100 reviews are:  [5.0, 5.0, 5.0, 5.0, 5.0, 5.0, 5.0, 5.0, 5.0, 5.0, 5.0, 5.0, 5.0, 5.0, 5.0, 5.0, 5.0, 5.0, 5.0, 5.0, 5.0, 5.0, 5.0, 5.0, 5.0, 5.0, 5.0, 5.0, 5.0, 5.0, 5.0, 5.0, 5.0, 5.0, 5.0, 5.0, 5.0, 5.0, 5.0, 5.0, 5.0, 5.0, 5.0, 5.0, 5.0, 5.0, 5.0, 5.0, 5.0, 5.0, 5.0, 5.0, 5.0, 5.0, 5.0, 5.0, 5.0, 5.0, 5.0, 5.0, 5.0, 5.0, 5.0, 5.0, 5.0, 5.0, 5.0, 5.0, 5.0, 5.0, 5.0, 5.0, 5.0, 5.0, 5.0, 5.0, 5.0, 5.0, 5.0, 5.0, 5.0, 5.0, 5.0, 5.0, 5.0, 5.0, 5.0, 5.0, 5.0, 5.0, 5.0, 5.0, 5.0, 5.0, 5.0, 5.0, 5.0, 5.0, 5.0, 5.0]\n"
     ]
    }
   ],
   "source": [
    "### TFIDF Vectorize the text\n",
    "tfidf_text = knnclassifier.to_tfidf(text_data.data, \"clean_text\")\n",
    "subset = tfidf_text[:100, ]\n",
    "print(\"Calling the train() method on training data: \")\n",
    "trueLabels = []\n",
    "for element in text_data.data:\n",
    "    trueLabels.append(element[\"stars\"])\n",
    "# Train\n",
    "knnclassifier.train(tfidf_text, trueLabels)\n",
    "# knnclassifier.train(subset, trueLabels[:100])\n",
    "#print(\"The train dataset is: \", knnclassifier.trainingData)\n",
    "#print(\"The trueLabels are: \", knnclassifier.trueLabels)\n",
    "# Test the test() method\n",
    "print(\"Calling the test() method on testing data: \")\n",
    "y_predict = knnclassifier.test(subset, 30)\n",
    "print(\"The predicted labels for the first 100 reviews are: \", y_predict)"
   ]
  },
  {
   "cell_type": "code",
   "execution_count": 6,
   "metadata": {},
   "outputs": [
    {
     "name": "stdout",
     "output_type": "stream",
     "text": [
      "The first 10 predicted probabilities are:  [[0.0, 0.03333333333333333, 0.1, 0.36666666666666664, 0.4666666666666667], [0.0, 0.03333333333333333, 0.1, 0.36666666666666664, 0.4666666666666667], [0.0, 0.03333333333333333, 0.1, 0.36666666666666664, 0.4666666666666667], [0.0, 0.03333333333333333, 0.1, 0.36666666666666664, 0.4666666666666667], [0.0, 0.03333333333333333, 0.1, 0.36666666666666664, 0.4666666666666667], [0.0, 0.03333333333333333, 0.1, 0.36666666666666664, 0.4666666666666667], [0.0, 0.03333333333333333, 0.1, 0.36666666666666664, 0.4666666666666667], [0.0, 0.03333333333333333, 0.1, 0.36666666666666664, 0.4666666666666667], [0.0, 0.03333333333333333, 0.1, 0.36666666666666664, 0.4666666666666667], [0.0, 0.03333333333333333, 0.1, 0.36666666666666664, 0.4666666666666667]]\n"
     ]
    }
   ],
   "source": [
    "### Try new predict_probabilities method!\n",
    "prob_vector = knnclassifier.predict_probabilities(subset,30)\n",
    "print(\"The first 10 predicted probabilities are: \", prob_vector[:10])"
   ]
  },
  {
   "cell_type": "markdown",
   "metadata": {},
   "source": [
    "### 3) Run Experiment and test ROC Curve"
   ]
  },
  {
   "cell_type": "code",
   "execution_count": 18,
   "metadata": {},
   "outputs": [
    {
     "name": "stdout",
     "output_type": "stream",
     "text": [
      "Testing the Experiment class. Initialize object of class Experiment.\n",
      "Object of class Experiment has been instantiated.\n",
      "Print member attributes of class Experiment\n",
      "Experiment data:  [[0. 0. 0. ... 0. 0. 0.]\n",
      " [0. 0. 0. ... 0. 0. 0.]\n",
      " [0. 0. 0. ... 0. 0. 0.]\n",
      " ...\n",
      " [0. 0. 0. ... 0. 0. 0.]\n",
      " [0. 0. 0. ... 0. 0. 0.]\n",
      " [0. 0. 0. ... 0. 0. 0.]]\n",
      "Experiment classifiers:  [<classifiers.simpleKNNClassifier object at 0x135544d90>]\n",
      "Experiment labels are:  ['5', '5', '4', '5', '5', '4', '5', '4', '4', '5', '5', '5', '5', '4', '4', '2', '3', '5', '3', '4', '3', '5', '5', '1', '5', '4', '5', '4', '4', '4', '5', '1', '5', '4', '3', '1', '4', '4', '4', '4', '4', '4', '4', '4', '4', '3', '5', '3', '4', '4', '4', '5', '4', '4', '5', '4', '2', '4', '4', '5', '4', '1', '3', '4', '1', '1', '5', '5', '4', '5', '4', '1', '4', '4', '5', '4', '4', '4', '5', '1', '4', '4', '5', '4', '1', '4', '5', '4', '5', '1', '1', '5', '4', '4', '4', '5', '4', '4', '5', '5']\n"
     ]
    }
   ],
   "source": [
    "print(\"Testing the Experiment class. Initialize object of class Experiment.\")\n",
    "c_list = [knnclassifier] # Set list of classifiers used\n",
    "\n",
    "exp = Experiment(subset, trueLabels[:100], c_list)\n",
    "print(\"Print member attributes of class Experiment\")\n",
    "print(\"Experiment data: \", exp.data)\n",
    "print(\"Experiment classifiers: \", exp.classifiers)\n",
    "print(\"Experiment labels are: \", exp.labels)"
   ]
  },
  {
   "cell_type": "code",
   "execution_count": 9,
   "metadata": {},
   "outputs": [
    {
     "name": "stdout",
     "output_type": "stream",
     "text": [
      "Running k fold cross validation:  [array([5., 5., 5., 5., 5., 5., 5., 5., 5., 5., 5., 5., 5., 5., 5., 5., 5.,\n",
      "        5., 5., 5., 5., 5., 5., 5., 5., 5., 5., 5., 5., 5., 5., 5., 5., 5.,\n",
      "        5., 5., 5., 5., 5., 5., 5., 5., 5., 5., 5., 5., 5., 5., 5., 5., 5.,\n",
      "        5., 5., 5., 5., 5., 5., 5., 5., 5., 5., 5., 5., 5., 5., 5., 5., 5.,\n",
      "        5., 5., 5., 5., 5., 5., 5., 5., 5., 5., 5., 5., 5., 5., 5., 5., 5.,\n",
      "        5., 5., 5., 5., 5., 5., 5., 5., 5., 5., 5., 5., 5., 5., 5.])       ]\n",
      "The accuracy of this model is:  1.0\n"
     ]
    },
    {
     "name": "stderr",
     "output_type": "stream",
     "text": [
      "/Users/eliserust/Desktop/Papers/Georgetown/Fall 2022/ANLY555/555_project/scripts/classifiers.py:223: FutureWarning: elementwise comparison failed; returning scalar instead, but in the future will perform elementwise comparison\n",
      "  score = np.mean(trueLabels != predictedLabels)\n"
     ]
    }
   ],
   "source": [
    "# Run cross validation\n",
    "output = exp.runCrossVal(10)\n",
    "print(\"Running k fold cross validation: \", exp.runCrossVal(10))\n",
    "# Output the accuracy score\n",
    "print(\"The accuracy of this model is: \", exp.score(output[0], trueLabels[:100]))"
   ]
  },
  {
   "cell_type": "markdown",
   "metadata": {},
   "source": [
    "### Create a ROC Curve"
   ]
  },
  {
   "cell_type": "code",
   "execution_count": 8,
   "metadata": {},
   "outputs": [],
   "source": [
    "## Define the number of partitions to loop over\n",
    "partitions = 10\n",
    "\n",
    "## Define thresholds against which to test classification\n",
    "thresholds = np.array(list(np.random.uniform(low=0.0, high=1.0, size=(100,))))"
   ]
  },
  {
   "cell_type": "code",
   "execution_count": 19,
   "metadata": {},
   "outputs": [
    {
     "name": "stdout",
     "output_type": "stream",
     "text": [
      "[1 1 1 1 1 1 1 1 1 1 1 1 1 1 1 1 1 1 1 1 1 1 1 1 1 1 1 1 1 1 1 1 1 1 1 1 1\n",
      " 1 1 1 1 1 1 1 1 1 1 1 1 1 1 1 1 1 1 1 1 1 1 1 1 1 1 1 1 1 1 1 1 1 1 1 1 1\n",
      " 1 1 1 1 1 1 1 1 1 1 1 1 1 1 1 1 1 1 1 1 1 1 1 1 1 1]\n",
      "<class 'numpy.ndarray'>\n",
      "[1 1 1 1 1 1 1 0 1 0 1 1 1 1 1 1 1 1 1 1 1 1 1 1 1 1 1 1 1 0 1 1 1 1 1 1 1\n",
      " 1 1 0 1 1 1 0 1 1 1 1 1 1 1 1 0 1 1 1 1 1 1 1 1 1 1 1 1 1 1 1 0 1 1 1 1 1\n",
      " 1 0 1 1 1 1 0 1 0 1 1 1 1 1 1 1 1 0 1 1 1 1 1 1 1 1]\n",
      "<class 'numpy.ndarray'>\n",
      "[1 1 1 1 1 1 1 0 0 0 1 1 1 1 1 1 1 1 1 1 1 1 1 1 1 0 1 1 0 0 1 1 1 1 1 1 1\n",
      " 1 1 0 1 1 0 0 1 1 1 1 1 1 0 1 0 0 0 1 1 1 1 1 1 1 1 1 1 1 1 1 0 1 1 1 0 1\n",
      " 1 0 1 0 0 1 0 0 0 1 1 1 1 1 1 1 1 0 1 1 1 1 1 1 1 1]\n",
      "<class 'numpy.ndarray'>\n",
      "[0 1 0 1 1 0 1 0 0 0 1 1 1 1 1 1 0 1 0 1 1 0 1 1 1 0 1 1 0 0 1 1 1 0 1 1 0\n",
      " 1 1 0 1 1 0 0 1 0 1 1 1 1 0 1 0 0 0 1 1 1 1 1 0 1 1 1 1 1 1 1 0 1 1 0 0 1\n",
      " 1 0 1 0 0 1 0 0 0 1 1 1 1 1 1 1 1 0 1 1 1 1 1 1 0 1]\n",
      "<class 'numpy.ndarray'>\n",
      "[0 1 0 1 1 0 1 0 0 0 1 1 1 1 0 1 0 1 0 1 1 0 1 1 1 0 0 1 0 0 1 1 1 0 1 1 0\n",
      " 1 1 0 1 1 0 0 1 0 1 1 1 1 0 1 0 0 0 1 1 1 1 1 0 0 1 1 1 0 1 1 0 1 1 0 0 1\n",
      " 1 0 1 0 0 1 0 0 0 1 1 1 1 0 0 0 1 0 0 1 1 1 1 1 0 1]\n",
      "<class 'numpy.ndarray'>\n",
      "[0 1 0 1 1 0 1 0 0 0 1 1 1 1 0 1 0 1 0 1 1 0 0 1 1 0 0 1 0 0 1 1 1 0 1 1 0\n",
      " 1 0 0 0 1 0 0 1 0 1 1 1 1 0 0 0 0 0 1 1 1 1 1 0 0 1 0 1 0 1 1 0 1 1 0 0 1\n",
      " 1 0 0 0 0 0 0 0 0 1 1 1 1 0 0 0 1 0 0 1 1 0 1 1 0 0]\n",
      "<class 'numpy.ndarray'>\n",
      "[0 1 0 1 1 0 0 0 0 0 1 0 1 1 0 1 0 1 0 1 1 0 0 1 1 0 0 1 0 0 1 0 0 0 1 1 0\n",
      " 1 0 0 0 1 0 0 0 0 1 1 0 1 0 0 0 0 0 1 1 1 0 0 0 0 1 0 1 0 1 1 0 1 1 0 0 1\n",
      " 1 0 0 0 0 0 0 0 0 1 1 1 1 0 0 0 1 0 0 1 0 0 1 1 0 0]\n",
      "<class 'numpy.ndarray'>\n",
      "[0 1 0 1 1 0 0 0 0 0 1 0 1 1 0 0 0 1 0 1 0 0 0 0 0 0 0 0 0 0 1 0 0 0 0 1 0\n",
      " 1 0 0 0 0 0 0 0 0 1 1 0 1 0 0 0 0 0 1 1 1 0 0 0 0 1 0 1 0 0 1 0 0 0 0 0 0\n",
      " 0 0 0 0 0 0 0 0 0 0 1 1 0 0 0 0 1 0 0 1 0 0 0 0 0 0]\n",
      "<class 'numpy.ndarray'>\n",
      "[0 1 0 0 0 0 0 0 0 0 0 0 1 1 0 0 0 1 0 0 0 0 0 0 0 0 0 0 0 0 1 0 0 0 0 1 0\n",
      " 1 0 0 0 0 0 0 0 0 1 0 0 1 0 0 0 0 0 1 1 1 0 0 0 0 1 0 1 0 0 0 0 0 0 0 0 0\n",
      " 0 0 0 0 0 0 0 0 0 0 1 1 0 0 0 0 0 0 0 1 0 0 0 0 0 0]\n",
      "<class 'numpy.ndarray'>\n",
      "[0 1 0 0 0 0 0 0 0 0 0 0 1 1 0 0 0 1 0 0 0 0 0 0 0 0 0 0 0 0 0 0 0 0 0 1 0\n",
      " 0 0 0 0 0 0 0 0 0 0 0 0 0 0 0 0 0 0 0 1 1 0 0 0 0 1 0 1 0 0 0 0 0 0 0 0 0\n",
      " 0 0 0 0 0 0 0 0 0 0 0 0 0 0 0 0 0 0 0 1 0 0 0 0 0 0]\n",
      "<class 'numpy.ndarray'>\n",
      "[1 1 1 1 1 1 1 1 1 1 1 1 1 1 1 1 1 1 1 1 1 1 1 1 1 1 1 1 1 1 1 1 1 1 1 1 1\n",
      " 1 1 1 1 1 1 1 1 1 1 1 1 1 1 1 1 1 1 1 1 1 1 1 1 1 1 1 1 1 1 1 1 1 1 1 1 1\n",
      " 1 1 1 1 1 1 1 1 1 1 1 1 1 1 1 1 1 1 1 1 1 1 1 1 1 1]\n",
      "<class 'numpy.ndarray'>\n",
      "[1 1 1 1 1 1 1 0 1 0 1 1 1 1 1 1 1 1 1 1 1 1 1 1 1 1 1 1 1 0 1 1 1 1 1 1 1\n",
      " 1 1 0 1 1 1 0 1 1 1 1 1 1 1 1 0 1 1 1 1 1 1 1 1 1 1 1 1 1 1 1 0 1 1 1 1 1\n",
      " 1 0 1 1 1 1 0 1 0 1 1 1 1 1 1 1 1 0 1 1 1 1 1 1 1 1]\n",
      "<class 'numpy.ndarray'>\n",
      "[1 1 1 1 1 1 1 0 0 0 1 1 1 1 1 1 1 1 1 1 1 1 1 1 1 0 1 1 0 0 1 1 1 1 1 1 1\n",
      " 1 1 0 1 1 0 0 1 1 1 1 1 1 0 1 0 0 0 1 1 1 1 1 1 1 1 1 1 1 1 1 0 1 1 1 0 1\n",
      " 1 0 1 0 0 1 0 0 0 1 1 1 1 1 1 1 1 0 1 1 1 1 1 1 1 1]\n",
      "<class 'numpy.ndarray'>\n",
      "[0 1 0 1 1 0 1 0 0 0 1 1 1 1 1 1 0 1 0 1 1 0 1 1 1 0 1 1 0 0 1 1 1 0 1 1 0\n",
      " 1 1 0 1 1 0 0 1 0 1 1 1 1 0 1 0 0 0 1 1 1 1 1 0 1 1 1 1 1 1 1 0 1 1 0 0 1\n",
      " 1 0 1 0 0 1 0 0 0 1 1 1 1 1 1 1 1 0 1 1 1 1 1 1 0 1]\n",
      "<class 'numpy.ndarray'>\n",
      "[0 1 0 1 1 0 1 0 0 0 1 1 1 1 0 1 0 1 0 1 1 0 1 1 1 0 0 1 0 0 1 1 1 0 1 1 0\n",
      " 1 1 0 1 1 0 0 1 0 1 1 1 1 0 1 0 0 0 1 1 1 1 1 0 0 1 1 1 0 1 1 0 1 1 0 0 1\n",
      " 1 0 1 0 0 1 0 0 0 1 1 1 1 0 0 0 1 0 0 1 1 1 1 1 0 1]\n",
      "<class 'numpy.ndarray'>\n",
      "[0 1 0 1 1 0 1 0 0 0 1 1 1 1 0 1 0 1 0 1 1 0 0 1 1 0 0 1 0 0 1 1 1 0 1 1 0\n",
      " 1 0 0 0 1 0 0 1 0 1 1 1 1 0 0 0 0 0 1 1 1 1 1 0 0 1 0 1 0 1 1 0 1 1 0 0 1\n",
      " 1 0 0 0 0 0 0 0 0 1 1 1 1 0 0 0 1 0 0 1 1 0 1 1 0 0]\n",
      "<class 'numpy.ndarray'>\n",
      "[0 1 0 1 1 0 0 0 0 0 1 0 1 1 0 1 0 1 0 1 1 0 0 1 1 0 0 1 0 0 1 0 0 0 1 1 0\n",
      " 1 0 0 0 1 0 0 0 0 1 1 0 1 0 0 0 0 0 1 1 1 0 0 0 0 1 0 1 0 1 1 0 1 1 0 0 1\n",
      " 1 0 0 0 0 0 0 0 0 1 1 1 1 0 0 0 1 0 0 1 0 0 1 1 0 0]\n",
      "<class 'numpy.ndarray'>\n",
      "[0 1 0 1 1 0 0 0 0 0 1 0 1 1 0 0 0 1 0 1 0 0 0 0 0 0 0 0 0 0 1 0 0 0 0 1 0\n",
      " 1 0 0 0 0 0 0 0 0 1 1 0 1 0 0 0 0 0 1 1 1 0 0 0 0 1 0 1 0 0 1 0 0 0 0 0 0\n",
      " 0 0 0 0 0 0 0 0 0 0 1 1 0 0 0 0 1 0 0 1 0 0 0 0 0 0]\n",
      "<class 'numpy.ndarray'>\n",
      "[0 1 0 0 0 0 0 0 0 0 0 0 1 1 0 0 0 1 0 0 0 0 0 0 0 0 0 0 0 0 1 0 0 0 0 1 0\n",
      " 1 0 0 0 0 0 0 0 0 1 0 0 1 0 0 0 0 0 1 1 1 0 0 0 0 1 0 1 0 0 0 0 0 0 0 0 0\n",
      " 0 0 0 0 0 0 0 0 0 0 1 1 0 0 0 0 0 0 0 1 0 0 0 0 0 0]\n",
      "<class 'numpy.ndarray'>\n",
      "[0 1 0 0 0 0 0 0 0 0 0 0 1 1 0 0 0 1 0 0 0 0 0 0 0 0 0 0 0 0 0 0 0 0 0 1 0\n",
      " 0 0 0 0 0 0 0 0 0 0 0 0 0 0 0 0 0 0 0 1 1 0 0 0 0 1 0 1 0 0 0 0 0 0 0 0 0\n",
      " 0 0 0 0 0 0 0 0 0 0 0 0 0 0 0 0 0 0 0 1 0 0 0 0 0 0]\n",
      "<class 'numpy.ndarray'>\n",
      "[1 1 1 1 1 1 1 1 1 1 1 1 1 1 1 1 1 1 1 1 1 1 1 1 1 1 1 1 1 1 1 1 1 1 1 1 1\n",
      " 1 1 1 1 1 1 1 1 1 1 1 1 1 1 1 1 1 1 1 1 1 1 1 1 1 1 1 1 1 1 1 1 1 1 1 1 1\n",
      " 1 1 1 1 1 1 1 1 1 1 1 1 1 1 1 1 1 1 1 1 1 1 1 1 1 1]\n",
      "<class 'numpy.ndarray'>\n",
      "[1 1 1 1 1 1 1 0 1 0 1 1 1 1 1 1 1 1 1 1 1 1 1 1 1 1 1 1 1 0 1 1 1 1 1 1 1\n",
      " 1 1 0 1 1 1 0 1 1 1 1 1 1 1 1 0 1 1 1 1 1 1 1 1 1 1 1 1 1 1 1 0 1 1 1 1 1\n",
      " 1 0 1 1 1 1 0 1 0 1 1 1 1 1 1 1 1 0 1 1 1 1 1 1 1 1]\n",
      "<class 'numpy.ndarray'>\n",
      "[1 1 1 1 1 1 1 0 0 0 1 1 1 1 1 1 1 1 1 1 1 1 1 1 1 0 1 1 0 0 1 1 1 1 1 1 1\n",
      " 1 1 0 1 1 0 0 1 1 1 1 1 1 0 1 0 0 0 1 1 1 1 1 1 1 1 1 1 1 1 1 0 1 1 1 0 1\n",
      " 1 0 1 0 0 1 0 0 0 1 1 1 1 1 1 1 1 0 1 1 1 1 1 1 1 1]\n",
      "<class 'numpy.ndarray'>\n",
      "[0 1 0 1 1 0 1 0 0 0 1 1 1 1 1 1 0 1 0 1 1 0 1 1 1 0 1 1 0 0 1 1 1 0 1 1 0\n",
      " 1 1 0 1 1 0 0 1 0 1 1 1 1 0 1 0 0 0 1 1 1 1 1 0 1 1 1 1 1 1 1 0 1 1 0 0 1\n",
      " 1 0 1 0 0 1 0 0 0 1 1 1 1 1 1 1 1 0 1 1 1 1 1 1 0 1]\n",
      "<class 'numpy.ndarray'>\n",
      "[0 1 0 1 1 0 1 0 0 0 1 1 1 1 0 1 0 1 0 1 1 0 1 1 1 0 0 1 0 0 1 1 1 0 1 1 0\n",
      " 1 1 0 1 1 0 0 1 0 1 1 1 1 0 1 0 0 0 1 1 1 1 1 0 0 1 1 1 0 1 1 0 1 1 0 0 1\n",
      " 1 0 1 0 0 1 0 0 0 1 1 1 1 0 0 0 1 0 0 1 1 1 1 1 0 1]\n",
      "<class 'numpy.ndarray'>\n",
      "[0 1 0 1 1 0 1 0 0 0 1 1 1 1 0 1 0 1 0 1 1 0 0 1 1 0 0 1 0 0 1 1 1 0 1 1 0\n",
      " 1 0 0 0 1 0 0 1 0 1 1 1 1 0 0 0 0 0 1 1 1 1 1 0 0 1 0 1 0 1 1 0 1 1 0 0 1\n",
      " 1 0 0 0 0 0 0 0 0 1 1 1 1 0 0 0 1 0 0 1 1 0 1 1 0 0]\n",
      "<class 'numpy.ndarray'>\n",
      "[0 1 0 1 1 0 0 0 0 0 1 0 1 1 0 1 0 1 0 1 1 0 0 1 1 0 0 1 0 0 1 0 0 0 1 1 0\n",
      " 1 0 0 0 1 0 0 0 0 1 1 0 1 0 0 0 0 0 1 1 1 0 0 0 0 1 0 1 0 1 1 0 1 1 0 0 1\n",
      " 1 0 0 0 0 0 0 0 0 1 1 1 1 0 0 0 1 0 0 1 0 0 1 1 0 0]\n",
      "<class 'numpy.ndarray'>\n",
      "[0 1 0 1 1 0 0 0 0 0 1 0 1 1 0 0 0 1 0 1 0 0 0 0 0 0 0 0 0 0 1 0 0 0 0 1 0\n",
      " 1 0 0 0 0 0 0 0 0 1 1 0 1 0 0 0 0 0 1 1 1 0 0 0 0 1 0 1 0 0 1 0 0 0 0 0 0\n",
      " 0 0 0 0 0 0 0 0 0 0 1 1 0 0 0 0 1 0 0 1 0 0 0 0 0 0]\n",
      "<class 'numpy.ndarray'>\n",
      "[0 1 0 0 0 0 0 0 0 0 0 0 1 1 0 0 0 1 0 0 0 0 0 0 0 0 0 0 0 0 1 0 0 0 0 1 0\n",
      " 1 0 0 0 0 0 0 0 0 1 0 0 1 0 0 0 0 0 1 1 1 0 0 0 0 1 0 1 0 0 0 0 0 0 0 0 0\n",
      " 0 0 0 0 0 0 0 0 0 0 1 1 0 0 0 0 0 0 0 1 0 0 0 0 0 0]\n",
      "<class 'numpy.ndarray'>\n",
      "[0 1 0 0 0 0 0 0 0 0 0 0 1 1 0 0 0 1 0 0 0 0 0 0 0 0 0 0 0 0 0 0 0 0 0 1 0\n",
      " 0 0 0 0 0 0 0 0 0 0 0 0 0 0 0 0 0 0 0 1 1 0 0 0 0 1 0 1 0 0 0 0 0 0 0 0 0\n",
      " 0 0 0 0 0 0 0 0 0 0 0 0 0 0 0 0 0 0 0 1 0 0 0 0 0 0]\n",
      "<class 'numpy.ndarray'>\n",
      "[1 1 1 1 1 1 1 1 1 1 1 1 1 1 1 1 1 1 1 1 1 1 1 1 1 1 1 1 1 1 1 1 1 1 1 1 1\n",
      " 1 1 1 1 1 1 1 1 1 1 1 1 1 1 1 1 1 1 1 1 1 1 1 1 1 1 1 1 1 1 1 1 1 1 1 1 1\n",
      " 1 1 1 1 1 1 1 1 1 1 1 1 1 1 1 1 1 1 1 1 1 1 1 1 1 1]\n",
      "<class 'numpy.ndarray'>\n",
      "[1 1 1 1 1 1 1 0 1 0 1 1 1 1 1 1 1 1 1 1 1 1 1 1 1 1 1 1 1 0 1 1 1 1 1 1 1\n",
      " 1 1 0 1 1 1 0 1 1 1 1 1 1 1 1 0 1 1 1 1 1 1 1 1 1 1 1 1 1 1 1 0 1 1 1 1 1\n",
      " 1 0 1 1 1 1 0 1 0 1 1 1 1 1 1 1 1 0 1 1 1 1 1 1 1 1]\n",
      "<class 'numpy.ndarray'>\n",
      "[1 1 1 1 1 1 1 0 0 0 1 1 1 1 1 1 1 1 1 1 1 1 1 1 1 0 1 1 0 0 1 1 1 1 1 1 1\n",
      " 1 1 0 1 1 0 0 1 1 1 1 1 1 0 1 0 0 0 1 1 1 1 1 1 1 1 1 1 1 1 1 0 1 1 1 0 1\n",
      " 1 0 1 0 0 1 0 0 0 1 1 1 1 1 1 1 1 0 1 1 1 1 1 1 1 1]\n",
      "<class 'numpy.ndarray'>\n",
      "[0 1 0 1 1 0 1 0 0 0 1 1 1 1 1 1 0 1 0 1 1 0 1 1 1 0 1 1 0 0 1 1 1 0 1 1 0\n",
      " 1 1 0 1 1 0 0 1 0 1 1 1 1 0 1 0 0 0 1 1 1 1 1 0 1 1 1 1 1 1 1 0 1 1 0 0 1\n",
      " 1 0 1 0 0 1 0 0 0 1 1 1 1 1 1 1 1 0 1 1 1 1 1 1 0 1]\n",
      "<class 'numpy.ndarray'>\n",
      "[0 1 0 1 1 0 1 0 0 0 1 1 1 1 0 1 0 1 0 1 1 0 1 1 1 0 0 1 0 0 1 1 1 0 1 1 0\n",
      " 1 1 0 1 1 0 0 1 0 1 1 1 1 0 1 0 0 0 1 1 1 1 1 0 0 1 1 1 0 1 1 0 1 1 0 0 1\n",
      " 1 0 1 0 0 1 0 0 0 1 1 1 1 0 0 0 1 0 0 1 1 1 1 1 0 1]\n",
      "<class 'numpy.ndarray'>\n",
      "[0 1 0 1 1 0 1 0 0 0 1 1 1 1 0 1 0 1 0 1 1 0 0 1 1 0 0 1 0 0 1 1 1 0 1 1 0\n",
      " 1 0 0 0 1 0 0 1 0 1 1 1 1 0 0 0 0 0 1 1 1 1 1 0 0 1 0 1 0 1 1 0 1 1 0 0 1\n",
      " 1 0 0 0 0 0 0 0 0 1 1 1 1 0 0 0 1 0 0 1 1 0 1 1 0 0]\n",
      "<class 'numpy.ndarray'>\n",
      "[0 1 0 1 1 0 0 0 0 0 1 0 1 1 0 1 0 1 0 1 1 0 0 1 1 0 0 1 0 0 1 0 0 0 1 1 0\n",
      " 1 0 0 0 1 0 0 0 0 1 1 0 1 0 0 0 0 0 1 1 1 0 0 0 0 1 0 1 0 1 1 0 1 1 0 0 1\n",
      " 1 0 0 0 0 0 0 0 0 1 1 1 1 0 0 0 1 0 0 1 0 0 1 1 0 0]\n",
      "<class 'numpy.ndarray'>\n",
      "[0 1 0 1 1 0 0 0 0 0 1 0 1 1 0 0 0 1 0 1 0 0 0 0 0 0 0 0 0 0 1 0 0 0 0 1 0\n",
      " 1 0 0 0 0 0 0 0 0 1 1 0 1 0 0 0 0 0 1 1 1 0 0 0 0 1 0 1 0 0 1 0 0 0 0 0 0\n",
      " 0 0 0 0 0 0 0 0 0 0 1 1 0 0 0 0 1 0 0 1 0 0 0 0 0 0]\n",
      "<class 'numpy.ndarray'>\n",
      "[0 1 0 0 0 0 0 0 0 0 0 0 1 1 0 0 0 1 0 0 0 0 0 0 0 0 0 0 0 0 1 0 0 0 0 1 0\n",
      " 1 0 0 0 0 0 0 0 0 1 0 0 1 0 0 0 0 0 1 1 1 0 0 0 0 1 0 1 0 0 0 0 0 0 0 0 0\n",
      " 0 0 0 0 0 0 0 0 0 0 1 1 0 0 0 0 0 0 0 1 0 0 0 0 0 0]\n",
      "<class 'numpy.ndarray'>\n",
      "[0 1 0 0 0 0 0 0 0 0 0 0 1 1 0 0 0 1 0 0 0 0 0 0 0 0 0 0 0 0 0 0 0 0 0 1 0\n",
      " 0 0 0 0 0 0 0 0 0 0 0 0 0 0 0 0 0 0 0 1 1 0 0 0 0 1 0 1 0 0 0 0 0 0 0 0 0\n",
      " 0 0 0 0 0 0 0 0 0 0 0 0 0 0 0 0 0 0 0 1 0 0 0 0 0 0]\n",
      "<class 'numpy.ndarray'>\n",
      "[1 1 1 1 1 1 1 1 1 1 1 1 1 1 1 1 1 1 1 1 1 1 1 1 1 1 1 1 1 1 1 1 1 1 1 1 1\n",
      " 1 1 1 1 1 1 1 1 1 1 1 1 1 1 1 1 1 1 1 1 1 1 1 1 1 1 1 1 1 1 1 1 1 1 1 1 1\n",
      " 1 1 1 1 1 1 1 1 1 1 1 1 1 1 1 1 1 1 1 1 1 1 1 1 1 1]\n",
      "<class 'numpy.ndarray'>\n",
      "[1 1 1 1 1 1 1 0 1 0 1 1 1 1 1 1 1 1 1 1 1 1 1 1 1 1 1 1 1 0 1 1 1 1 1 1 1\n",
      " 1 1 0 1 1 1 0 1 1 1 1 1 1 1 1 0 1 1 1 1 1 1 1 1 1 1 1 1 1 1 1 0 1 1 1 1 1\n",
      " 1 0 1 1 1 1 0 1 0 1 1 1 1 1 1 1 1 0 1 1 1 1 1 1 1 1]\n",
      "<class 'numpy.ndarray'>\n",
      "[1 1 1 1 1 1 1 0 0 0 1 1 1 1 1 1 1 1 1 1 1 1 1 1 1 0 1 1 0 0 1 1 1 1 1 1 1\n",
      " 1 1 0 1 1 0 0 1 1 1 1 1 1 0 1 0 0 0 1 1 1 1 1 1 1 1 1 1 1 1 1 0 1 1 1 0 1\n",
      " 1 0 1 0 0 1 0 0 0 1 1 1 1 1 1 1 1 0 1 1 1 1 1 1 1 1]\n",
      "<class 'numpy.ndarray'>\n",
      "[0 1 0 1 1 0 1 0 0 0 1 1 1 1 1 1 0 1 0 1 1 0 1 1 1 0 1 1 0 0 1 1 1 0 1 1 0\n",
      " 1 1 0 1 1 0 0 1 0 1 1 1 1 0 1 0 0 0 1 1 1 1 1 0 1 1 1 1 1 1 1 0 1 1 0 0 1\n",
      " 1 0 1 0 0 1 0 0 0 1 1 1 1 1 1 1 1 0 1 1 1 1 1 1 0 1]\n",
      "<class 'numpy.ndarray'>\n",
      "[0 1 0 1 1 0 1 0 0 0 1 1 1 1 0 1 0 1 0 1 1 0 1 1 1 0 0 1 0 0 1 1 1 0 1 1 0\n",
      " 1 1 0 1 1 0 0 1 0 1 1 1 1 0 1 0 0 0 1 1 1 1 1 0 0 1 1 1 0 1 1 0 1 1 0 0 1\n",
      " 1 0 1 0 0 1 0 0 0 1 1 1 1 0 0 0 1 0 0 1 1 1 1 1 0 1]\n",
      "<class 'numpy.ndarray'>\n",
      "[0 1 0 1 1 0 1 0 0 0 1 1 1 1 0 1 0 1 0 1 1 0 0 1 1 0 0 1 0 0 1 1 1 0 1 1 0\n",
      " 1 0 0 0 1 0 0 1 0 1 1 1 1 0 0 0 0 0 1 1 1 1 1 0 0 1 0 1 0 1 1 0 1 1 0 0 1\n",
      " 1 0 0 0 0 0 0 0 0 1 1 1 1 0 0 0 1 0 0 1 1 0 1 1 0 0]\n",
      "<class 'numpy.ndarray'>\n",
      "[0 1 0 1 1 0 0 0 0 0 1 0 1 1 0 1 0 1 0 1 1 0 0 1 1 0 0 1 0 0 1 0 0 0 1 1 0\n",
      " 1 0 0 0 1 0 0 0 0 1 1 0 1 0 0 0 0 0 1 1 1 0 0 0 0 1 0 1 0 1 1 0 1 1 0 0 1\n",
      " 1 0 0 0 0 0 0 0 0 1 1 1 1 0 0 0 1 0 0 1 0 0 1 1 0 0]\n",
      "<class 'numpy.ndarray'>\n",
      "[0 1 0 1 1 0 0 0 0 0 1 0 1 1 0 0 0 1 0 1 0 0 0 0 0 0 0 0 0 0 1 0 0 0 0 1 0\n",
      " 1 0 0 0 0 0 0 0 0 1 1 0 1 0 0 0 0 0 1 1 1 0 0 0 0 1 0 1 0 0 1 0 0 0 0 0 0\n",
      " 0 0 0 0 0 0 0 0 0 0 1 1 0 0 0 0 1 0 0 1 0 0 0 0 0 0]\n",
      "<class 'numpy.ndarray'>\n",
      "[0 1 0 0 0 0 0 0 0 0 0 0 1 1 0 0 0 1 0 0 0 0 0 0 0 0 0 0 0 0 1 0 0 0 0 1 0\n",
      " 1 0 0 0 0 0 0 0 0 1 0 0 1 0 0 0 0 0 1 1 1 0 0 0 0 1 0 1 0 0 0 0 0 0 0 0 0\n",
      " 0 0 0 0 0 0 0 0 0 0 1 1 0 0 0 0 0 0 0 1 0 0 0 0 0 0]\n",
      "<class 'numpy.ndarray'>\n",
      "[0 1 0 0 0 0 0 0 0 0 0 0 1 1 0 0 0 1 0 0 0 0 0 0 0 0 0 0 0 0 0 0 0 0 0 1 0\n",
      " 0 0 0 0 0 0 0 0 0 0 0 0 0 0 0 0 0 0 0 1 1 0 0 0 0 1 0 1 0 0 0 0 0 0 0 0 0\n",
      " 0 0 0 0 0 0 0 0 0 0 0 0 0 0 0 0 0 0 0 1 0 0 0 0 0 0]\n",
      "<class 'numpy.ndarray'>\n",
      "The false positive/true positive rates for each class when doing multilabel one to rest classification are:  None\n"
     ]
    }
   ],
   "source": [
    "roc_data = exp.ROC(thresholds, exp.labels, partitions)\n",
    "print(\"The false positive/true positive rates for each class when doing multilabel one to rest classification are: \", roc_data)"
   ]
  },
  {
   "cell_type": "markdown",
   "metadata": {},
   "source": [
    "### Plot the ROC Curve\n",
    "\n",
    "NOTE: The data being classified is text data for restaurant reviews --> the label is the associated rating (1-5 stars) for that restaurant. For the K Nearest Neighbors Classifier, for k = 30, there are mostly 5 star reviews. Thus, when taking the mode of nearest neighboring points the classifier outputs only 5 star reviews. Thus, for the ROC curve we don't get a curved line. We get individual points."
   ]
  },
  {
   "cell_type": "code",
   "execution_count": 21,
   "metadata": {},
   "outputs": [
    {
     "data": {
      "image/png": "[encoded data removed]",
      "text/plain": [
       "<Figure size 432x288 with 1 Axes>"
      ]
     },
     "metadata": {
      "needs_background": "light"
     },
     "output_type": "display_data"
    }
   ],
   "source": [
    "exp.plot_ROC(roc_data)"
   ]
  }
 ],
 "metadata": {
  "interpreter": {
   "hash": "aaacc59724bdf5d4074bfdd025ed7c1f3dc6f5c1302c8872d9feb2dbb9bc0f46"
  },
  "kernelspec": {
   "display_name": "Python 3.9.7 ('spyder-env')",
   "language": "python",
   "name": "python3"
  },
  "language_info": {
   "codemirror_mode": {
    "name": "ipython",
    "version": 3
   },
   "file_extension": ".py",
   "mimetype": "text/x-python",
   "name": "python",
   "nbconvert_exporter": "python",
   "pygments_lexer": "ipython3",
   "version": "3.9.7"
  },
  "orig_nbformat": 4
 },
 "nbformat": 4,
 "nbformat_minor": 2
}
