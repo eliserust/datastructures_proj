{
 "cells": [
  {
   "cell_type": "code",
   "execution_count": 2,
   "metadata": {},
   "outputs": [],
   "source": [
    "import numpy as np"
   ]
  },
  {
   "cell_type": "code",
   "execution_count": 4,
   "metadata": {},
   "outputs": [],
   "source": [
    "class Node(object):\n",
    "    def __init__(self, data):\n",
    "        self.data = data\n",
    "        self.children = []\n",
    "    \n",
    "    def add_child(self, obj):\n",
    "        self.children.append(obj)\n",
    "    \n",
    "def split(arr, cond):\n",
    "  return [arr[cond], arr[~cond]]"
   ]
  },
  {
   "cell_type": "code",
   "execution_count": 6,
   "metadata": {},
   "outputs": [
    {
     "data": {
      "text/plain": [
       "[[3, 1, 4],\n",
       " [2, 4, 5],\n",
       " [5, 2, 3],\n",
       " [2, 3, 7],\n",
       " [1, 7, 4],\n",
       " [4, 1, 4],\n",
       " [7, 3, 4],\n",
       " [3, 1, 2],\n",
       " [5, 1, 5]]"
      ]
     },
     "execution_count": 6,
     "metadata": {},
     "output_type": "execute_result"
    }
   ],
   "source": [
    "## Test dataset\n",
    "kd_test = [[3,1,4], [2,4,5], [5,2,3], [2,3,7], [1,7,4], [4,1,4], [7,3,4], [3,1,2], [5,1,5]]\n",
    "kd_test"
   ]
  },
  {
   "cell_type": "markdown",
   "metadata": {},
   "source": [
    "### Order of operations\n",
    "- Sort data according to element 0\n",
    "- Identify median point according to element 0 (this is the root node)\n",
    "- Partition data on either side of median\n",
    "- For each partition, sort according to element 1\n",
    "- For each partition, find median point according to element 1 --> these are the two children nodes of the root node\n",
    "- Partition each sub-partition on either side of median\n",
    "- Etc."
   ]
  },
  {
   "cell_type": "code",
   "execution_count": null,
   "metadata": {},
   "outputs": [],
   "source": [
    "num_features = len(kd_test[0])\n",
    "num_features = range(0, num_features) # Create list of number of \n",
    "tree = [] # Initialize kdTree\n",
    "\n",
    "def kdTree(data, element):\n",
    "    '''\n",
    "    data to build nodes of tree\n",
    "    element to sort and divide on\n",
    "    '''\n",
    "    # Sort data\n",
    "    data = sorted(data, key=lambda x: x[element])\n",
    "    data = np.array(data) # make sure it's array format\n",
    "\n",
    "    # Identify median of data\n",
    "    midpoint = len(data)//2\n",
    "    median = data[midpoint]\n",
    "\n",
    "    # Remove median from data\n",
    "    data = np.delete(data, midpoint, 0)\n",
    "\n",
    "    # Create node with median point\n",
    "    point = Node(median)\n",
    "\n",
    "    # Split data into > median or < median\n",
    "    left_half = split(data, data[:,0]<=median[0])[0]\n",
    "    right_half = split(data, data[:,0]<=median[0])[1]\n",
    "        \n",
    "        "
   ]
  },
  {
   "cell_type": "code",
   "execution_count": 7,
   "metadata": {},
   "outputs": [
    {
     "name": "stdout",
     "output_type": "stream",
     "text": [
      "[[1 7 4]\n",
      " [2 4 5]\n",
      " [2 3 7]\n",
      " [3 1 4]\n",
      " [3 1 2]\n",
      " [4 1 4]\n",
      " [5 2 3]\n",
      " [5 1 5]\n",
      " [7 3 4]]\n",
      "Median point is:  [3 1 2]\n"
     ]
    }
   ],
   "source": [
    "## Order points based on 1st coordinate\n",
    "kd_test = sorted(kd_test, key=lambda x: x[0])\n",
    "kd_test = np.array(kd_test)\n",
    "print(kd_test)\n",
    "\n",
    "# Identify median\n",
    "midpoint = len(kd_test)//2\n",
    "median = kd_test[midpoint]\n",
    "print(\"Median point is: \", median)\n",
    "\n",
    "# Remove median from data\n",
    "kd_test = np.delete(kd_test, midpoint, 0)\n",
    "\n",
    "\n",
    "## Build Tree\n",
    "# 1) Root = median\n",
    "root = Node(median)\n",
    "\n",
    "# 2) Split data into > median or < median\n",
    "left_half = split(kd_test, kd_test[:,0]<=median[0])[0]\n",
    "right_half = split(kd_test, kd_test[:,0]<=median[0])[1]\n",
    "\n",
    "## Sort the left partition by 2nd coordinate\n",
    "left_half = sorted(left_half, key=lambda x: x[1])\n",
    "left_half = np.array(left_half)\n",
    "print(left_half)\n",
    "\n",
    "# Identify median\n",
    "midpoint = len(left_half)//2\n",
    "median = left_half[midpoint]\n",
    "print(\"Left Median point is: \", median)\n",
    "child = Node(median)\n",
    "root.add_child(child) # Add left partition median as new child of root\n",
    "\n",
    "# Remove median from data\n",
    "left_half = np.delete(left_half, midpoint, 0)\n",
    "\n",
    "\n",
    "## Sort the right partition\n",
    "right_half = sorted(right_half, key=lambda x: x[1])\n",
    "right_half = np.array(right_half)\n",
    "print(right_half)\n",
    "\n",
    "# Identify median\n",
    "midpoint = len(right_half)//2\n",
    "median = right_half[midpoint]\n",
    "print(\"Median point is: \", median)\n",
    "child = Node(median)\n",
    "root.add_child(child) # Add right partition median as new child of root\n",
    "\n",
    "# Remove median from data\n",
    "right_half = np.delete(right_half, midpoint, 0)"
   ]
  },
  {
   "cell_type": "code",
   "execution_count": 16,
   "metadata": {},
   "outputs": [
    {
     "data": {
      "text/plain": [
       "[array([2, 4, 5]), array([5, 2, 3])]"
      ]
     },
     "execution_count": 16,
     "metadata": {},
     "output_type": "execute_result"
    }
   ],
   "source": [
    "root.children"
   ]
  }
 ],
 "metadata": {
  "interpreter": {
   "hash": "aaacc59724bdf5d4074bfdd025ed7c1f3dc6f5c1302c8872d9feb2dbb9bc0f46"
  },
  "kernelspec": {
   "display_name": "Python 3.9.7 ('spyder-env')",
   "language": "python",
   "name": "python3"
  },
  "language_info": {
   "codemirror_mode": {
    "name": "ipython",
    "version": 3
   },
   "file_extension": ".py",
   "mimetype": "text/x-python",
   "name": "python",
   "nbconvert_exporter": "python",
   "pygments_lexer": "ipython3",
   "version": "3.9.7"
  },
  "orig_nbformat": 4
 },
 "nbformat": 4,
 "nbformat_minor": 2
}
